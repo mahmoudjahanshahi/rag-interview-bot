{
 "cells": [
  {
   "cell_type": "code",
   "execution_count": null,
   "id": "717c4dcb",
   "metadata": {},
   "outputs": [],
   "source": [
    "%pip install --upgrade pip\n",
    "%pip install openai\n",
    "%pip install azure-cosmos"
   ]
  },
  {
   "cell_type": "code",
   "execution_count": null,
   "id": "07ec8682",
   "metadata": {},
   "outputs": [],
   "source": [
    "import os\n",
    "from openai import AzureOpenAI\n",
    "from azure.cosmos import CosmosClient, PartitionKey\n",
    "\n",
    "# Set up environment variables for Azure OpenAI\n",
    "oai_client = AzureOpenAI(\n",
    "    api_key = os.getenv('AZURE_OPENAI_API_KEY'), \n",
    "    api_version = os.getenv('AZURE_OPENAI_API_VERSION'),\n",
    "    azure_endpoint = os.getenv('AZURE_OPENAI_ENDPOINT')\n",
    ")\n",
    "\n",
    "# Set up environment variables for Azure OpenAI Embeddings\n",
    "emb_client = AzureOpenAI(\n",
    "    api_key = os.getenv('AZURE_OPENAI_API_KEY'),  \n",
    "    api_version = os.getenv('AZURE_OPENAI_API_VERSION'),\n",
    "    azure_endpoint = os.getenv('AZURE_OPENAI_EMBEDDINGS_ENDPOINT')\n",
    ")\n",
    "\n",
    "# Set up environment variables for Azure Cosmos DB\n",
    "url = os.getenv('COSMOS_DB_ENDPOINT')\n",
    "key = os.getenv('COSMOS_DB_KEY')\n",
    "db_client = CosmosClient(url, credential=key)"
   ]
  },
  {
   "cell_type": "code",
   "execution_count": 4,
   "id": "9af28ecd",
   "metadata": {},
   "outputs": [],
   "source": [
    "# Create database if it doesn't exist\n",
    "database = db_client.create_database_if_not_exists(id='interview-assistant')\n",
    "\n",
    "# Create container if it doesn't exist\n",
    "container = database.create_container_if_not_exists(\n",
    "    id='chunks',\n",
    "    partition_key=PartitionKey(path='/source')\n",
    ")"
   ]
  }
 ],
 "metadata": {
  "kernelspec": {
   "display_name": "Python 3",
   "language": "python",
   "name": "python3"
  },
  "language_info": {
   "codemirror_mode": {
    "name": "ipython",
    "version": 3
   },
   "file_extension": ".py",
   "mimetype": "text/x-python",
   "name": "python",
   "nbconvert_exporter": "python",
   "pygments_lexer": "ipython3",
   "version": "3.12.1"
  }
 },
 "nbformat": 4,
 "nbformat_minor": 5
}
